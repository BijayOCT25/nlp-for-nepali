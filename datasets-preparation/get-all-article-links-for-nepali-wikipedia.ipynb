{
 "cells": [
  {
   "cell_type": "code",
   "execution_count": 1,
   "metadata": {},
   "outputs": [],
   "source": [
    "from urllib.request import urlopen\n",
    "import pickle"
   ]
  },
  {
   "cell_type": "code",
   "execution_count": 2,
   "metadata": {},
   "outputs": [],
   "source": [
    "html_doc = ''\n",
    "with urlopen('https://ne.wikipedia.org/wiki/%E0%A4%AE%E0%A5%81%E0%A4%96%E0%A5%8D%E0%A4%AF_%E0%A4%AA%E0%A5%83%E0%A4%B7%E0%A5%8D%E0%A4%A0') as response:\n",
    "    for line in response:\n",
    "        line = line.decode('utf-8')\n",
    "        html_doc = html_doc + line.replace('\\n','')"
   ]
  },
  {
   "cell_type": "code",
   "execution_count": 3,
   "metadata": {},
   "outputs": [],
   "source": [
    "from bs4 import BeautifulSoup\n",
    "soup = BeautifulSoup(html_doc, 'html.parser')"
   ]
  },
  {
   "cell_type": "code",
   "execution_count": 4,
   "metadata": {},
   "outputs": [
    {
     "data": {
      "text/plain": [
       "'मुख्य पृष्ठ'"
      ]
     },
     "execution_count": 4,
     "metadata": {},
     "output_type": "execute_result"
    }
   ],
   "source": [
    "soup.h1.string"
   ]
  },
  {
   "cell_type": "code",
   "execution_count": 5,
   "metadata": {},
   "outputs": [],
   "source": [
    "tab = soup.find(\"table\",{\"style\":\"border:2px solid #e1eaee; border-collapse:separate;font-size:120%\"})"
   ]
  },
  {
   "cell_type": "code",
   "execution_count": 6,
   "metadata": {},
   "outputs": [],
   "source": [
    "anchors = tab.find_all('a')"
   ]
  },
  {
   "cell_type": "code",
   "execution_count": 7,
   "metadata": {},
   "outputs": [],
   "source": [
    "home_url = 'https://ne.wikipedia.org' \n",
    "links = [home_url + anchor['href'] for anchor in anchors]"
   ]
  },
  {
   "cell_type": "code",
   "execution_count": 8,
   "metadata": {},
   "outputs": [
    {
     "data": {
      "text/plain": [
       "54"
      ]
     },
     "execution_count": 8,
     "metadata": {},
     "output_type": "execute_result"
    }
   ],
   "source": [
    "len(links)"
   ]
  },
  {
   "cell_type": "code",
   "execution_count": 9,
   "metadata": {},
   "outputs": [
    {
     "data": {
      "text/plain": [
       "'https://ne.wikipedia.org/wiki/%E0%A4%B5%E0%A4%BF%E0%A4%B6%E0%A5%87%E0%A4%B7:AllPages/%E0%A5%A6'"
      ]
     },
     "execution_count": 9,
     "metadata": {},
     "output_type": "execute_result"
    }
   ],
   "source": [
    "links[0]"
   ]
  },
  {
   "cell_type": "code",
   "execution_count": 10,
   "metadata": {},
   "outputs": [],
   "source": [
    "all_links = []"
   ]
  },
  {
   "cell_type": "code",
   "execution_count": 11,
   "metadata": {},
   "outputs": [
    {
     "name": "stdout",
     "output_type": "stream",
     "text": [
      "345\n",
      "690\n",
      "1035\n",
      "1276\n",
      "1276\n",
      "1621\n",
      "1966\n",
      "2311\n",
      "2656\n",
      "3001\n",
      "3346\n",
      "3691\n",
      "4036\n",
      "4381\n",
      "4726\n",
      "5071\n",
      "5416\n",
      "5761\n",
      "6106\n",
      "6451\n",
      "6796\n",
      "7141\n",
      "7486\n",
      "7831\n",
      "8176\n",
      "8521\n",
      "8866\n",
      "9211\n",
      "9556\n",
      "9901\n",
      "10246\n",
      "10591\n",
      "10936\n",
      "11281\n",
      "11626\n",
      "11971\n",
      "12316\n",
      "12661\n",
      "13006\n",
      "13351\n",
      "13696\n",
      "14041\n",
      "14386\n",
      "14731\n",
      "15076\n",
      "15421\n",
      "15766\n",
      "16111\n",
      "16456\n",
      "16801\n",
      "17146\n",
      "17491\n",
      "17836\n",
      "18181\n",
      "18526\n",
      "18871\n",
      "19216\n",
      "19561\n",
      "19906\n",
      "20251\n",
      "20596\n",
      "20941\n",
      "21286\n",
      "21593\n",
      "21593\n",
      "21593\n",
      "21593\n",
      "21593\n",
      "21593\n",
      "21593\n",
      "21593\n",
      "21593\n",
      "21593\n",
      "21593\n",
      "21593\n",
      "21593\n",
      "21593\n",
      "21593\n",
      "21593\n",
      "21593\n",
      "21593\n",
      "21593\n",
      "21593\n",
      "21593\n",
      "21593\n",
      "21593\n",
      "21593\n",
      "21593\n",
      "21593\n",
      "21593\n",
      "21593\n",
      "21593\n",
      "21593\n",
      "21593\n",
      "21593\n",
      "21593\n",
      "21938\n",
      "22283\n",
      "22628\n",
      "22973\n",
      "23318\n",
      "23663\n",
      "24008\n",
      "24353\n",
      "24698\n",
      "25043\n",
      "25388\n",
      "25733\n",
      "26078\n",
      "26423\n",
      "26768\n",
      "27113\n",
      "27458\n",
      "27803\n",
      "28148\n",
      "28493\n",
      "28838\n",
      "29183\n",
      "29528\n",
      "29873\n",
      "30218\n",
      "30563\n",
      "30908\n",
      "31253\n",
      "31598\n",
      "31943\n",
      "32288\n",
      "32633\n",
      "32978\n",
      "33323\n",
      "33668\n",
      "34013\n",
      "34358\n",
      "34703\n",
      "35048\n",
      "35393\n",
      "35738\n",
      "36083\n",
      "36428\n",
      "36773\n",
      "37118\n",
      "37463\n",
      "37808\n",
      "38153\n",
      "38498\n",
      "38757\n",
      "38757\n",
      "38757\n",
      "38757\n",
      "38757\n",
      "38757\n",
      "38757\n",
      "38757\n",
      "38757\n",
      "38757\n",
      "38757\n",
      "38757\n",
      "38757\n",
      "38757\n",
      "38757\n",
      "38757\n",
      "38757\n",
      "38757\n",
      "38757\n",
      "38757\n",
      "38757\n"
     ]
    }
   ],
   "source": [
    "# Main code\n",
    "prev_len = 0\n",
    "for link in links:    \n",
    "    while link:\n",
    "        html_doc = ''\n",
    "        with urlopen(link) as response:\n",
    "            for line in response:\n",
    "                line = line.decode('utf-8')\n",
    "                html_doc = html_doc + line.replace('\\n','')\n",
    "            soup = BeautifulSoup(html_doc, 'html.parser')\n",
    "            div = soup.find('div',{'class':'mw-allpages-body'})\n",
    "            if div:\n",
    "                anchors = div.find_all('a');\n",
    "                all_links = all_links + [home_url + anchor['href'] for anchor in anchors]\n",
    "                print(len(set(all_links)))\n",
    "            if prev_len == len(set(all_links)):\n",
    "                break\n",
    "            nav_div = soup.find('div',{'class':'mw-allpages-nav'})\n",
    "            if nav_div and len(nav_div.find_all('a')) == 2:\n",
    "                link = home_url + nav_div.find_all('a')[1]['href']\n",
    "            prev_len = len(set(all_links))"
   ]
  },
  {
   "cell_type": "code",
   "execution_count": 12,
   "metadata": {},
   "outputs": [
    {
     "data": {
      "text/plain": [
       "38757"
      ]
     },
     "execution_count": 12,
     "metadata": {},
     "output_type": "execute_result"
    }
   ],
   "source": [
    "len(set(all_links))"
   ]
  },
  {
   "cell_type": "code",
   "execution_count": 13,
   "metadata": {},
   "outputs": [
    {
     "data": {
      "text/plain": [
       "38757"
      ]
     },
     "execution_count": 13,
     "metadata": {},
     "output_type": "execute_result"
    }
   ],
   "source": [
    "all_links = list(set(all_links)); len(all_links)"
   ]
  },
  {
   "cell_type": "code",
   "execution_count": 14,
   "metadata": {},
   "outputs": [],
   "source": [
    "with open('all_nepali_wikipedia_links.pkl', 'wb') as f:\n",
    "    pickle.dump(all_links, f)"
   ]
  },
  {
   "cell_type": "code",
   "execution_count": 17,
   "metadata": {},
   "outputs": [
    {
     "data": {
      "text/plain": [
       "'https://ne.wikipedia.org/wiki/%E0%A4%AC%E0%A4%BE%E0%A4%AB'"
      ]
     },
     "execution_count": 17,
     "metadata": {},
     "output_type": "execute_result"
    }
   ],
   "source": [
    "all_links[16000]"
   ]
  },
  {
   "cell_type": "code",
   "execution_count": null,
   "metadata": {},
   "outputs": [],
   "source": []
  }
 ],
 "metadata": {
  "kernelspec": {
   "display_name": "Python 3",
   "language": "python",
   "name": "python3"
  },
  "language_info": {
   "codemirror_mode": {
    "name": "ipython",
    "version": 3
   },
   "file_extension": ".py",
   "mimetype": "text/x-python",
   "name": "python",
   "nbconvert_exporter": "python",
   "pygments_lexer": "ipython3",
   "version": "3.6.7"
  }
 },
 "nbformat": 4,
 "nbformat_minor": 2
}
